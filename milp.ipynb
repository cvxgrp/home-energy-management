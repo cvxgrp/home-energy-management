{
 "cells": [
  {
   "cell_type": "markdown",
   "metadata": {},
   "source": [
    "# Mixed Integer Programs in CVXPY"
   ]
  },
  {
   "cell_type": "markdown",
   "metadata": {},
   "source": [
    "## Example\n",
    "\n",
    "Problem Statement:\n",
    "\n",
    "Let's say a company produces items, and the cost of producing 'x' items is given by a staircase function:\n",
    "\n",
    "$C(x) = \\begin{cases}\n",
    "0, & \\text{if } 0 \\le x \\le 20, \\\\\n",
    "100, & \\text{if } 20 < x \\le 40, \\\\\n",
    "250, & \\text{if } 40 < x \\le 60, \\\\\n",
    "500, & \\text{if } 60 < x \\le 80, \\\\\n",
    "1000, & \\text{if } 80 < x \\le 100.\n",
    "\\end{cases}$\n",
    "\n",
    "Objective:\n",
    "\n",
    "Minimize the cost function $C(x)$ subject to constraints on the number of items produced.\n",
    "\n",
    "Constraints:\n",
    "\n",
    "1. The number of items produced should be at least 30.\n",
    "2. The number of items produced should not exceed 100.\n",
    "\n",
    "Modeling as an MILP problem:\n",
    "\n",
    "To model this problem as an MILP, we introduce binary variables $z_1, z_2, z_3,$ and $z_4$, indicating which staircase segment we are in. We have the following constraints:\n",
    "\n",
    "1. $x \\ge 30$\n",
    "2. $x \\le 100$\n",
    "3. $x - 20 \\le 20z_1$\n",
    "4. $x - 40 \\le 20z_2$\n",
    "5. $x - 60 \\le 20z_3$\n",
    "6. $x - 80 \\le 20z_4$\n",
    "7. $z_1 + z_2 + z_3 + z_4 = 1$\n",
    "\n",
    "Our objective is to minimize:\n",
    "\n",
    "$C(x) = 100z_1 + 250z_2 + 500z_3 + 1000z_4$\n"
   ]
  },
  {
   "cell_type": "code",
   "execution_count": 8,
   "metadata": {},
   "outputs": [
    {
     "name": "stdout",
     "output_type": "stream",
     "text": [
      "Optimal Value of x: [30.]\n",
      "Optimal Cost: 100.0\n",
      "z values: [1. 0. 0. 0.]\n"
     ]
    }
   ],
   "source": [
    "import cvxpy as cp\n",
    "\n",
    "# Define the variables\n",
    "x = cp.Variable(1)\n",
    "z = cp.Variable(4, boolean=True)\n",
    "\n",
    "# Define the constraints\n",
    "constraints = [\n",
    "    x >= 30,\n",
    "    x <= 100,\n",
    "    x - 20 <= 20 * z[0],\n",
    "    x - 40 <= 20 * z[1],\n",
    "    x - 60 <= 20 * z[2],\n",
    "    x - 80 <= 20 * z[3],\n",
    "    cp.sum(z) == 1\n",
    "]\n",
    "\n",
    "# Define the objective function\n",
    "costs = cp.Constant([100, 250, 500, 1000])\n",
    "objective = cp.Minimize(cp.sum(cp.multiply(costs, z)))\n",
    "\n",
    "# Solve the problem\n",
    "prob = cp.Problem(objective, constraints)\n",
    "result = prob.solve()\n",
    "\n",
    "print(\"Optimal Value of x:\", x.value)\n",
    "print(\"Optimal Cost:\", result)\n",
    "print(\"z values:\", z.value)"
   ]
  },
  {
   "cell_type": "code",
   "execution_count": 11,
   "metadata": {},
   "outputs": [
    {
     "name": "stdout",
     "output_type": "stream",
     "text": [
      "Optimal Value of x: [30.]\n",
      "Optimal Cost: 1000.0\n",
      "z values: [0. 0. 0. 0. 1.]\n"
     ]
    }
   ],
   "source": [
    "import cvxpy as cp\n",
    "\n",
    "# Define the variables\n",
    "x = cp.Variable(1)\n",
    "z = cp.Variable(5, boolean=True)\n",
    "\n",
    "# Parameters\n",
    "L = 30\n",
    "U = 100\n",
    "x_values = [0, 20, 40, 60, 80, 100]\n",
    "costs = [0, 100, 250, 500, 1000]\n",
    "\n",
    "# Define the constraints\n",
    "constraints = [\n",
    "    x >= L,\n",
    "    x <= U,\n",
    "    x >= x_values[1] * z[1],\n",
    "    x <= x_values[1] * z[0] + x_values[2] * z[1] + x_values[3] * z[2] + x_values[4] * z[3] + x_values[5] * z[4],\n",
    "    cp.sum(z) == 1,\n",
    "    z[0] <= z[1],\n",
    "    z[1] <= z[2],\n",
    "    z[2] <= z[3],\n",
    "    z[3] <= z[4]\n",
    "]\n",
    "\n",
    "# Define the objective function\n",
    "objective = cp.Minimize(cp.sum(cp.multiply(cp.Constant(costs), z)))\n",
    "\n",
    "# Solve the problem\n",
    "prob = cp.Problem(objective, constraints)\n",
    "result = prob.solve()\n",
    "\n",
    "print(\"Optimal Value of x:\", x.value)\n",
    "print(\"Optimal Cost:\", result)\n",
    "print(\"z values:\", z.value)\n"
   ]
  },
  {
   "cell_type": "code",
   "execution_count": 14,
   "metadata": {},
   "outputs": [
    {
     "name": "stdout",
     "output_type": "stream",
     "text": [
      "Optimal Value of x: [40.]\n",
      "Optimal Cost: 249.99999999999994\n",
      "z values: [ 0.00000000e+00  1.00000000e+00 -1.37810465e-16  0.00000000e+00]\n"
     ]
    }
   ],
   "source": [
    "import cvxpy as cp\n",
    "\n",
    "# Define the variables\n",
    "x = cp.Variable(1)\n",
    "z = cp.Variable(4, boolean=True)\n",
    "\n",
    "# Parameters\n",
    "L = 30\n",
    "U = 100\n",
    "x_values = [20, 40, 60, 80, 100]\n",
    "costs = [100, 250, 500, 1000]\n",
    "\n",
    "# Define the constraints\n",
    "constraints = [\n",
    "    x >= L,\n",
    "    x <= U,\n",
    "    x >= x_values[0] * z[0],\n",
    "    x >= x_values[1] * z[1],\n",
    "    x >= x_values[2] * z[2],\n",
    "    x >= x_values[3] * z[3],\n",
    "    x <= x_values[0] * z[0] + x_values[1] * z[1] + x_values[2] * z[2] + x_values[3] * z[3],\n",
    "    cp.sum(z) == 1\n",
    "]\n",
    "\n",
    "# Define the objective function\n",
    "objective = cp.Minimize(cp.sum(cp.multiply(cp.Constant(costs), z)))\n",
    "\n",
    "# Solve the problem\n",
    "prob = cp.Problem(objective, constraints)\n",
    "result = prob.solve()\n",
    "\n",
    "print(\"Optimal Value of x:\", x.value)\n",
    "print(\"Optimal Cost:\", result)\n",
    "print(\"z values:\", z.value)\n"
   ]
  }
 ],
 "metadata": {
  "kernelspec": {
   "display_name": "Python 3.9.13 ('base')",
   "language": "python",
   "name": "python3"
  },
  "language_info": {
   "codemirror_mode": {
    "name": "ipython",
    "version": 3
   },
   "file_extension": ".py",
   "mimetype": "text/x-python",
   "name": "python",
   "nbconvert_exporter": "python",
   "pygments_lexer": "ipython3",
   "version": "3.9.13"
  },
  "orig_nbformat": 4,
  "vscode": {
   "interpreter": {
    "hash": "3d597f4c481aa0f25dceb95d2a0067e73c0966dcbd003d741d821a7208527ecf"
   }
  }
 },
 "nbformat": 4,
 "nbformat_minor": 2
}
