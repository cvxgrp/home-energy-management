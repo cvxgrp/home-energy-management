{
 "cells": [
  {
   "cell_type": "markdown",
   "metadata": {},
   "source": [
    "# Home energy management with linear peak demand tariff"
   ]
  },
  {
   "cell_type": "code",
   "execution_count": 1,
   "metadata": {},
   "outputs": [],
   "source": [
    "%matplotlib inline\n",
    "%config InlineBackend.figure_formats = ['svg']\n",
    "\n",
    "import datetime\n",
    "import pandas as pd\n",
    "import numpy as np\n",
    "import cvxpy as cp\n",
    "from matplotlib import pyplot as plt\n",
    "\n",
    "from utils import *\n",
    "\n",
    "# import matplotlib as mpl\n",
    "# import tqdm\n",
    "# import matplotlib.ticker as ticker\n",
    "\n",
    "save_figs = False\n",
    "run_sensitivity_analysis = False"
   ]
  },
  {
   "cell_type": "markdown",
   "metadata": {},
   "source": [
    "## Prescient optimization"
   ]
  },
  {
   "cell_type": "markdown",
   "metadata": {},
   "source": [
    "### No storage"
   ]
  },
  {
   "cell_type": "code",
   "execution_count": 2,
   "metadata": {},
   "outputs": [
    {
     "ename": "FileNotFoundError",
     "evalue": "[Errno 2] No such file or directory: 'data/autoreg_residual_params.pickle'",
     "output_type": "error",
     "traceback": [
      "\u001b[0;31m---------------------------------------------------------------------------\u001b[0m",
      "\u001b[0;31mFileNotFoundError\u001b[0m                         Traceback (most recent call last)",
      "Cell \u001b[0;32mIn[2], line 7\u001b[0m\n\u001b[1;32m      5\u001b[0m \u001b[38;5;66;03m# Forecast models\u001b[39;00m\n\u001b[1;32m      6\u001b[0m baseline \u001b[38;5;241m=\u001b[39m pd\u001b[38;5;241m.\u001b[39mread_pickle(\u001b[38;5;124m\"\u001b[39m\u001b[38;5;124mdata/load_baseline.pickle\u001b[39m\u001b[38;5;124m\"\u001b[39m)\n\u001b[0;32m----> 7\u001b[0m autoreg_residual_params \u001b[38;5;241m=\u001b[39m \u001b[43mpd\u001b[49m\u001b[38;5;241;43m.\u001b[39;49m\u001b[43mread_pickle\u001b[49m\u001b[43m(\u001b[49m\u001b[38;5;124;43m\"\u001b[39;49m\u001b[38;5;124;43mdata/autoreg_residual_params.pickle\u001b[39;49m\u001b[38;5;124;43m\"\u001b[39;49m\u001b[43m)\u001b[49m\n\u001b[1;32m      9\u001b[0m \u001b[38;5;66;03m# Simulation window (1 year with hourly resolution)\u001b[39;00m\n\u001b[1;32m     10\u001b[0m T \u001b[38;5;241m=\u001b[39m \u001b[38;5;241m24\u001b[39m \u001b[38;5;241m*\u001b[39m \u001b[38;5;241m365\u001b[39m\n",
      "File \u001b[0;32m/opt/miniconda3/lib/python3.9/site-packages/pandas/io/pickle.py:190\u001b[0m, in \u001b[0;36mread_pickle\u001b[0;34m(filepath_or_buffer, compression, storage_options)\u001b[0m\n\u001b[1;32m    124\u001b[0m \u001b[39m\u001b[39m\u001b[39m\"\"\"\u001b[39;00m\n\u001b[1;32m    125\u001b[0m \u001b[39mLoad pickled pandas object (or any object) from file.\u001b[39;00m\n\u001b[1;32m    126\u001b[0m \n\u001b[0;32m   (...)\u001b[0m\n\u001b[1;32m    187\u001b[0m \u001b[39m4    4    9\u001b[39;00m\n\u001b[1;32m    188\u001b[0m \u001b[39m\"\"\"\u001b[39;00m\n\u001b[1;32m    189\u001b[0m excs_to_catch \u001b[39m=\u001b[39m (\u001b[39mAttributeError\u001b[39;00m, \u001b[39mImportError\u001b[39;00m, \u001b[39mModuleNotFoundError\u001b[39;00m, \u001b[39mTypeError\u001b[39;00m)\n\u001b[0;32m--> 190\u001b[0m \u001b[39mwith\u001b[39;00m get_handle(\n\u001b[1;32m    191\u001b[0m     filepath_or_buffer,\n\u001b[1;32m    192\u001b[0m     \u001b[39m\"\u001b[39;49m\u001b[39mrb\u001b[39;49m\u001b[39m\"\u001b[39;49m,\n\u001b[1;32m    193\u001b[0m     compression\u001b[39m=\u001b[39;49mcompression,\n\u001b[1;32m    194\u001b[0m     is_text\u001b[39m=\u001b[39;49m\u001b[39mFalse\u001b[39;49;00m,\n\u001b[1;32m    195\u001b[0m     storage_options\u001b[39m=\u001b[39;49mstorage_options,\n\u001b[1;32m    196\u001b[0m ) \u001b[39mas\u001b[39;00m handles:\n\u001b[1;32m    197\u001b[0m \n\u001b[1;32m    198\u001b[0m     \u001b[39m# 1) try standard library Pickle\u001b[39;00m\n\u001b[1;32m    199\u001b[0m     \u001b[39m# 2) try pickle_compat (older pandas version) to handle subclass changes\u001b[39;00m\n\u001b[1;32m    200\u001b[0m     \u001b[39m# 3) try pickle_compat with latin-1 encoding upon a UnicodeDecodeError\u001b[39;00m\n\u001b[1;32m    202\u001b[0m     \u001b[39mtry\u001b[39;00m:\n\u001b[1;32m    203\u001b[0m         \u001b[39m# TypeError for Cython complaints about object.__new__ vs Tick.__new__\u001b[39;00m\n\u001b[1;32m    204\u001b[0m         \u001b[39mtry\u001b[39;00m:\n",
      "File \u001b[0;32m/opt/miniconda3/lib/python3.9/site-packages/pandas/io/common.py:865\u001b[0m, in \u001b[0;36mget_handle\u001b[0;34m(path_or_buf, mode, encoding, compression, memory_map, is_text, errors, storage_options)\u001b[0m\n\u001b[1;32m    856\u001b[0m         handle \u001b[39m=\u001b[39m \u001b[39mopen\u001b[39m(\n\u001b[1;32m    857\u001b[0m             handle,\n\u001b[1;32m    858\u001b[0m             ioargs\u001b[39m.\u001b[39mmode,\n\u001b[0;32m   (...)\u001b[0m\n\u001b[1;32m    861\u001b[0m             newline\u001b[39m=\u001b[39m\u001b[39m\"\u001b[39m\u001b[39m\"\u001b[39m,\n\u001b[1;32m    862\u001b[0m         )\n\u001b[1;32m    863\u001b[0m     \u001b[39melse\u001b[39;00m:\n\u001b[1;32m    864\u001b[0m         \u001b[39m# Binary mode\u001b[39;00m\n\u001b[0;32m--> 865\u001b[0m         handle \u001b[39m=\u001b[39m \u001b[39mopen\u001b[39;49m(handle, ioargs\u001b[39m.\u001b[39;49mmode)\n\u001b[1;32m    866\u001b[0m     handles\u001b[39m.\u001b[39mappend(handle)\n\u001b[1;32m    868\u001b[0m \u001b[39m# Convert BytesIO or file objects passed with an encoding\u001b[39;00m\n",
      "\u001b[0;31mFileNotFoundError\u001b[0m: [Errno 2] No such file or directory: 'data/autoreg_residual_params.pickle'"
     ]
    }
   ],
   "source": [
    "# Load and price data\n",
    "load_data = pd.read_pickle(\"data/load_data.pickle\")\n",
    "price_data = pd.read_pickle(\"data/price_data.pickle\")\n",
    "\n",
    "# Forecast models\n",
    "baseline = pd.read_pickle(\"data/load_baseline.pickle\")\n",
    "autoreg_residual_params = pd.read_pickle(\"data/autoreg_residual_params.pickle\")\n",
    "\n",
    "# Simulation window (1 year with hourly resolution)\n",
    "T = 24 * 365\n",
    "start_date = pd.Timestamp(\"2022-01-01 00:00:00\")\n",
    "sim_start_time = load_data.index.get_loc(start_date)\n",
    "sim_end_time = sim_start_time + T\n",
    "sim_index = load_data.index[sim_start_time:sim_end_time]\n",
    "month_slices = get_month_slices(load_data[sim_start_time:sim_end_time].index)"
   ]
  },
  {
   "cell_type": "code",
   "execution_count": null,
   "metadata": {},
   "outputs": [],
   "source": [
    "# Problem data (constants and parameters)\n",
    "p_load = load_data.iloc[sim_start_time:sim_end_time].values\n",
    "Q = cp.Parameter(nonneg=True, value=0)\n",
    "C = cp.Parameter(nonneg=True, value=Q.value / 2)\n",
    "D = cp.Parameter(nonneg=True, value=Q.value / 2)\n",
    "q_init = cp.Parameter(nonneg=True, value=Q.value / 2)\n",
    "q_final = cp.Parameter(nonneg=True, value=Q.value / 2)\n",
    "alpha = 0.01\n",
    "eff_charge = 0.95\n",
    "eff_discharge = 0.95\n",
    "E = 20\n",
    "price_buy = price_data.iloc[sim_start_time:sim_end_time].values\n",
    "price_peak = 252\n",
    "\n",
    "# Create variables\n",
    "p_grid = cp.Variable(T)\n",
    "p_batt_in = cp.Variable(T)\n",
    "p_batt_out = cp.Variable(T)\n",
    "q = cp.Variable(T)\n",
    "\n",
    "# Constraints\n",
    "cons = [q[1:] == (1 - alpha) * q[:-1] + eff_charge * p_batt_in[1:] \n",
    "        - (1/eff_discharge) * p_batt_out[1:],\n",
    "        q[0] == (1 - alpha) * q_init + eff_charge * p_batt_in[0] \n",
    "        - (1/eff_discharge) * p_batt_out[0],\n",
    "        q[-1] == q_final, q <= Q, q >= 0,\n",
    "        p_batt_in >= 0, p_batt_in <= C, p_batt_out >= 0, p_batt_out <= D,\n",
    "        p_grid >= 0, p_grid <= E,\n",
    "        p_grid + p_batt_out == p_batt_in + p_load]\n",
    "\n",
    "# Create objective\n",
    "cost_usage = cp.sum(cp.multiply(price_buy, p_grid))\n",
    "cost_peak = cp.sum([price_peak * cp.max(p_grid[month]) for month in month_slices])\n",
    "cost = cost_usage + cost_peak\n",
    "\n",
    "# Create problem and solve\n",
    "prescient = cp.Problem(cp.Minimize(cost), cons)\n",
    "prescient.solve()\n",
    "\n",
    "# Report results\n",
    "print_costs(cost_usage.value, cost_peak.value)\n",
    "plot_power_grid(sim_index, p_grid.value, Q.value)\n",
    "ymin, ymax = plt.gca().get_ylim()\n",
    "plt.gcf().set_size_inches(fig_width, 0.5*fig_height)\n",
    "\n",
    "if save_figs:\n",
    "    plt.savefig(\"figures/prescient_linear_no_storage.pdf\")"
   ]
  },
  {
   "cell_type": "markdown",
   "metadata": {},
   "source": [
    "### Storage capacity: 5 kWh"
   ]
  },
  {
   "cell_type": "code",
   "execution_count": null,
   "metadata": {},
   "outputs": [],
   "source": [
    "# Update Q and related values\n",
    "Q.value = 5\n",
    "C.value = Q.value / 2\n",
    "D.value = Q.value / 2\n",
    "q_init.value = Q.value / 2\n",
    "q_final.value = Q.value / 2\n",
    "\n",
    "# Resolve the problem\n",
    "prescient.solve()\n",
    "\n",
    "# Report results\n",
    "print_costs(cost_usage.value, cost_peak.value)\n",
    "plot_power_grid(sim_index, p_grid.value, Q.value)\n",
    "ymin, ymax = plt.gca().get_ylim()\n",
    "plt.gcf().set_size_inches(fig_width, 0.5*fig_height)\n",
    "\n",
    "plot_state_of_charge(sim_index, q.value)\n",
    "plt.gcf().set_size_inches(fig_width, 0.5*fig_height)\n",
    "\n",
    "if save_figs:\n",
    "    plt.savefig(\"figures/prescient_linear_5kWh.pdf\")\n"
   ]
  },
  {
   "cell_type": "markdown",
   "metadata": {},
   "source": [
    "### Storage capacity: 15 kWh"
   ]
  },
  {
   "cell_type": "code",
   "execution_count": null,
   "metadata": {},
   "outputs": [],
   "source": [
    "# Update Q and related values\n",
    "Q.value = 15\n",
    "C.value = Q.value / 2\n",
    "D.value = Q.value / 2\n",
    "q_init.value = Q.value / 2\n",
    "q_final.value = Q.value / 2\n",
    "\n",
    "# Resolve the problem\n",
    "prescient.solve()\n",
    "\n",
    "# Compute cost\n",
    "cost_usage_val = np.sum(price_data[sim_index] * p_grid.value)\n",
    "power_series = pd.Series(p_grid.value, index=sim_index)\n",
    "peak_series = power_series.resample('M').max().values\n",
    "cost_peak_val = np.sum(peak_series * price_peak)\n",
    "prescient_cost = cost_usage_val + cost_peak_val\n",
    "\n",
    "# Report results\n",
    "# prescient_cost = cost_usage.value + cost_peak.value\n",
    "print_costs(cost_usage.value, cost_peak.value)\n",
    "plot_power_grid(sim_index, p_grid.value, Q.value)\n",
    "ymin, ymax = plt.gca().get_ylim()\n",
    "plt.gcf().set_size_inches(fig_width, 0.5*fig_height)\n",
    "\n",
    "plot_state_of_charge(sim_index, q.value)\n",
    "plt.gcf().set_size_inches(fig_width, 0.5*fig_height)\n",
    "\n",
    "if save_figs:\n",
    "    plt.savefig(\"figures/prescient_linear_15kWh.pdf\")"
   ]
  },
  {
   "cell_type": "markdown",
   "metadata": {},
   "source": [
    "### Storage capacity: 30 kWh"
   ]
  },
  {
   "cell_type": "code",
   "execution_count": null,
   "metadata": {},
   "outputs": [],
   "source": [
    "# Update Q and related values\n",
    "Q.value = 30\n",
    "C.value = Q.value / 2\n",
    "D.value = Q.value / 2\n",
    "q_init.value = Q.value / 2\n",
    "q_final.value = Q.value / 2\n",
    "\n",
    "# Resolve the problem\n",
    "prescient.solve()\n",
    "\n",
    "# Report results\n",
    "print_costs(cost_usage.value, cost_peak.value)\n",
    "plot_power_grid(sim_index, p_grid.value, Q.value)\n",
    "ymin, ymax = plt.gca().get_ylim()\n",
    "plt.gcf().set_size_inches(fig_width, 0.5*fig_height)\n",
    "\n",
    "plot_state_of_charge(sim_index, q.value)\n",
    "plt.gcf().set_size_inches(fig_width, 0.5*fig_height)\n",
    "\n",
    "if save_figs:\n",
    "    plt.savefig(\"figures/prescient_linear_30kWh.pdf\")"
   ]
  },
  {
   "cell_type": "markdown",
   "metadata": {},
   "source": [
    "### Cost versus storage capacity"
   ]
  },
  {
   "cell_type": "code",
   "execution_count": null,
   "metadata": {},
   "outputs": [],
   "source": [
    "if run_sensitivity_analysis:\n",
    "    # Define the storage capacity range\n",
    "    storage_capacities = np.linspace(0, 50)\n",
    "\n",
    "    # Initialize arrays for storing costs and cost breakdown\n",
    "    cost_usage_values = np.zeros(len(storage_capacities))\n",
    "    cost_peak_values = np.zeros(len(storage_capacities))\n",
    "\n",
    "    # Run simulations for various storage capacities\n",
    "    for i, capacity in tqdm.tqdm(enumerate(storage_capacities), total=len(storage_capacities), desc=\"Performing sensitivity analysis\"):\n",
    "        # Update Q and related values\n",
    "        Q.value = capacity\n",
    "        C.value = capacity / 2\n",
    "        D.value = capacity / 2\n",
    "        q_init.value = capacity / 2\n",
    "        q_final.value = Q.value / 2\n",
    "        # Resolve the problem\n",
    "        prescient.solve()\n",
    "        # Save results\n",
    "        cost_usage_values[i], cost_peak_values[i] = cost_usage.value, cost_peak.value\n",
    "        \n",
    "    # Plot the results: Total cost vs storage capacity\n",
    "    fig, ax = plt.subplots()\n",
    "    ax.plot(storage_capacities, (cost_usage_values + cost_peak_values)/1e3, marker='o', linestyle='-', markerfacecolor='blue', color='blue', markeredgewidth=1, markeredgecolor='black', label=\"Total cost\")\n",
    "    ax.plot(storage_capacities, cost_peak_values/1e3, marker='o', linestyle='-', markerfacecolor='green', color='green', markeredgewidth=1, markeredgecolor='black', label=\"Peak demand cost\")\n",
    "    ax.plot(storage_capacities, cost_usage_values/1e3, marker='o', linestyle='-', markerfacecolor='red', color='red', markeredgewidth=1, markeredgecolor='black', label=\"Energy cost\")\n",
    "\n",
    "    ax.set_xlabel(\"Storage capacity (kWh)\")\n",
    "    ax.set_ylabel(\"Cost (thousands of NOK)\")\n",
    "    ax.legend()\n",
    "    ax.grid(True)\n",
    "    plt.tight_layout()\n",
    "    ymin, ymax = plt.gca().get_ylim()\n",
    "    plt.gca().set_ylim(0, ymax);\n",
    "\n",
    "    if save_figs:\n",
    "        plt.savefig(\"figures/cost_vs_storage_capacity.pdf\")"
   ]
  },
  {
   "cell_type": "markdown",
   "metadata": {},
   "source": [
    "## Model predictive control"
   ]
  },
  {
   "cell_type": "markdown",
   "metadata": {},
   "source": [
    "### Seasonal baseline forecast "
   ]
  },
  {
   "cell_type": "code",
   "execution_count": null,
   "metadata": {},
   "outputs": [],
   "source": [
    "# Constants\n",
    "Q = 15\n",
    "C, D, q_final = Q/2, Q/2, Q/2\n",
    "\n",
    "def solve_problem(T_MPC, p_load, price_buy, prev_peak, q_init, month_slices):\n",
    "    # Create variables\n",
    "    p_grid = cp.Variable(T_MPC)\n",
    "    p_batt_in = cp.Variable(T_MPC)\n",
    "    p_batt_out = cp.Variable(T_MPC)\n",
    "    q = cp.Variable(T_MPC)\n",
    "    \n",
    "    # Constraints\n",
    "    cons = [q[0] == (1 - alpha) * q_init + eff_charge * p_batt_in[0] \n",
    "            - (1/eff_discharge) * p_batt_out[0],\n",
    "            q[-1] == q_final, q <= Q, q >= 0,\n",
    "            p_batt_in >= 0, p_batt_in <= C, p_batt_out >= 0, p_batt_out <= D,\n",
    "            p_grid >= 0, p_grid <= E,\n",
    "            p_grid + p_batt_out == p_batt_in + p_load]\n",
    "    \n",
    "    if T_MPC > 1:\n",
    "            cons.extend([q[1:] == (1 - alpha) * q[:-1] + eff_charge * p_batt_in[1:] \n",
    "            - (1/eff_discharge) * p_batt_out[1:]])\n",
    "    \n",
    "    cost_usage = cp.sum(cp.multiply(price_buy, p_grid))\n",
    "    previous_peaks = [prev_peak] + [0] * (len(month_slices) - 1)\n",
    "#     cost_peak = cp.sum([price_peak * cp.pos(cp.max(p_grid[month]) - previous_peak) for month, previous_peak in zip(month_slices, previous_peaks)])\n",
    "    cost_peak = cp.sum([price_peak * cp.pos(cp.max(p_grid[month]) - prev_peak_val) for month, prev_peak_val in zip(month_slices, previous_peaks)])\n",
    "    cost = cost_usage + cost_peak\n",
    "    \n",
    "    # Create problem and solve\n",
    "    mpc = cp.Problem(cp.Minimize(cost), cons)\n",
    "    mpc.solve()\n",
    "    \n",
    "    return q.value[0], p_grid.value[0]"
   ]
  },
  {
   "cell_type": "code",
   "execution_count": null,
   "metadata": {},
   "outputs": [],
   "source": [
    "# MPC prediction horizon\n",
    "T_MPC = 24 * 30\n",
    "\n",
    "# Initial conditions\n",
    "q_init = Q/2\n",
    "prev_peak = 0\n",
    "    \n",
    "# Empty arrays for storing results\n",
    "energy_stored = np.empty(T)\n",
    "power = np.empty(T)\n",
    "peak = np.empty(T)\n",
    "\n",
    "def make_forecasts(t, T_MPC):\n",
    "    p_load = baseline[sim_start_time+t:sim_start_time+t+T_MPC].values\n",
    "    price_buy = price_data[sim_start_time+t:sim_start_time+t+T_MPC].values\n",
    "    month_slices = get_month_slices(baseline[sim_start_time+t:sim_start_time+t+T_MPC].index)\n",
    "    return p_load, price_buy, month_slices\n",
    "    \n",
    "def implement(t, q_value, p_grid_value, prev_peak):\n",
    "    energy_stored[t] = np.clip(q_value, 0, None)\n",
    "    q_init = energy_stored[t]\n",
    "    \n",
    "    power[t] = p_grid_value\n",
    "    peak[t] = np.max([power[t], prev_peak])\n",
    "    \n",
    "    if T - t > 1:\n",
    "        if baseline.index[sim_start_time+t].month != baseline.index[sim_start_time+t+1].month:\n",
    "            prev_peak = 0\n",
    "        else:\n",
    "            prev_peak = peak[t]\n",
    "    return prev_peak, q_init\n",
    "    \n",
    "for t in tqdm.trange(T, desc=\"Simulating MPC\"):\n",
    "    # Shrinking horizon\n",
    "    if T - t < T_MPC:\n",
    "        T_MPC = T - t\n",
    "    # Update forecasts\n",
    "    p_load, price_buy, month_slices = make_forecasts(t, T_MPC)\n",
    "    # Create problem and solve\n",
    "    q_value, p_grid_value = solve_problem(T_MPC, p_load, price_buy, prev_peak, q_init, month_slices)\n",
    "    # Implement MPC solution\n",
    "    prev_peak, q_init = implement(t, q_value, p_grid_value, prev_peak)\n",
    "\n",
    "# Compute cost\n",
    "cost_usage = np.sum(price_data[sim_index] * power)\n",
    "power_series = pd.Series(power, index=sim_index)\n",
    "peak_series = power_series.resample('M').max().values\n",
    "cost_peak = np.sum(peak_series * price_peak)\n",
    "mpc_cost_baseline = cost_usage + cost_peak\n",
    "\n",
    "# Suboptimality gap\n",
    "absolute_gap = mpc_cost_baseline - prescient_cost\n",
    "relative_gap = absolute_gap / mpc_cost_baseline\n",
    "print(f\"Absolute gap: {absolute_gap:.2f}\")\n",
    "print(f\"Relative gap: {relative_gap * 100:.2f}%\")\n",
    "\n",
    "# Report results\n",
    "print_costs(cost_usage, cost_peak)\n",
    "plot_power_grid(sim_index, power, Q)\n",
    "plt.gcf().set_size_inches(fig_width, 0.5*fig_height)\n",
    "\n",
    "plot_state_of_charge(sim_index, energy_stored)\n",
    "plt.gcf().set_size_inches(fig_width, 0.5*fig_height)\n",
    "\n",
    "if save_figs:\n",
    "    plt.savefig(\"figures/mpc_baseline_linear.pdf\")"
   ]
  }
 ],
 "metadata": {
  "kernelspec": {
   "display_name": "Python 3.9.13 ('base')",
   "language": "python",
   "name": "python3"
  },
  "language_info": {
   "codemirror_mode": {
    "name": "ipython",
    "version": 3
   },
   "file_extension": ".py",
   "mimetype": "text/x-python",
   "name": "python",
   "nbconvert_exporter": "python",
   "pygments_lexer": "ipython3",
   "version": "3.9.13"
  },
  "orig_nbformat": 4,
  "vscode": {
   "interpreter": {
    "hash": "3d597f4c481aa0f25dceb95d2a0067e73c0966dcbd003d741d821a7208527ecf"
   }
  }
 },
 "nbformat": 4,
 "nbformat_minor": 2
}
