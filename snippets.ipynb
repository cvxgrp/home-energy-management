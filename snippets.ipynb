{
 "cells": [
  {
   "cell_type": "code",
   "execution_count": 1,
   "metadata": {},
   "outputs": [],
   "source": [
    "%matplotlib inline\n",
    "%config InlineBackend.figure_formats = ['svg']\n",
    "\n",
    "import pandas as pd\n",
    "import numpy as np\n",
    "import cvxpy as cp\n",
    "from matplotlib import pyplot as plt\n",
    "\n",
    "# Customize plot settings\n",
    "from latexify import *\n",
    "from utils import *\n",
    "golden_mean = (np.sqrt(5) - 1.0) / 2.0  # Aesthetic ratio\n",
    "latexify(fig_width=5)"
   ]
  },
  {
   "cell_type": "code",
   "execution_count": 2,
   "metadata": {},
   "outputs": [],
   "source": [
    "load_data = pd.read_csv('data/loads.csv', parse_dates=[0], index_col=0)[\"Load (kW)\"]\n",
    "load_min, load_max = load_data.min(), load_data.max()\n",
    "tou_price_data = pd.read_csv('data/tou_prices.csv', parse_dates=[0], index_col=0)[\"TOU Price (NOK/kWh)\"]\n",
    "spot_price_data = pd.read_csv('data/spot_prices.csv', parse_dates=[0], index_col=0)[\"Spot Price (NOK/kWh)\"]\n",
    "\n",
    "# Load forecasting\n",
    "load_baseline = pd.read_csv('data/load_baseline.csv', parse_dates=[0], index_col=0)[\"Baseline load (kW)\"]\n",
    "AR_params = pd.read_pickle(\"data/AR_params.pickle\")\n",
    "sigma_residual_errors = pd.read_pickle(\"data/sigma_residual_errors.pickle\")\n",
    "\n",
    "# Define simulation window: one year (2022) with hourly resolution\n",
    "T = 24 * 365\n",
    "start_date = pd.Timestamp(\"2022-01-01 00:00:00\", tz=None)\n",
    "\n",
    "sim_start_time = load_baseline.index.get_loc(start_date)\n",
    "sim_end_time = sim_start_time + T\n",
    "dt = load_data.index[sim_start_time:sim_end_time]\n",
    "\n",
    "# Load and price values for 2022\n",
    "l = load_data.iloc[sim_start_time:sim_end_time].values\n",
    "tou_prices = tou_price_data.iloc[sim_start_time:sim_end_time].values\n",
    "spot_prices = spot_price_data.iloc[sim_start_time:sim_end_time].values\n",
    "\n",
    "K, L = 12, 5"
   ]
  },
  {
   "cell_type": "markdown",
   "metadata": {},
   "source": [
    "## Prescient problem"
   ]
  },
  {
   "cell_type": "code",
   "execution_count": 12,
   "metadata": {},
   "outputs": [
    {
     "name": "stdout",
     "output_type": "stream",
     "text": [
      "8761 12 5\n"
     ]
    }
   ],
   "source": [
    "# Constants and parameters definition\n",
    "P, N, Q = 20, 3, 40\n",
    "q_init, q_final, C, D = Q/2, Q/2, Q/2, Q/2\n",
    "eta_s, eta_c, eta_d = 0.99998, 0.95, 0.95 \n",
    "tier_costs = np.array([83, 147, 252, 371, 490])\n",
    "tier_thresholds = np.array([2, 5, 10, 15])\n",
    "T, K, L = len(l)+1, len(set(dt.month)), len(tier_costs)\n",
    "\n",
    "print(T, K, L)\n",
    "\n",
    "# # Variables\n",
    "# p = cp.Variable(T-1, nonneg=True)  # Power from grid\n",
    "# c = cp.Variable(T-1, nonneg=True)  # Charging power\n",
    "# d = cp.Variable(T-1, nonneg=True)  # Discharging power\n",
    "# q = cp.Variable(T, nonneg=True)  # Energy in storage\n",
    "# s = cp.Variable((K, L), boolean=True)  # Binary variables for tiers\n",
    "\n",
    "# # Constraints\n",
    "# cons = [\n",
    "#     p <= P,  # Power from grid constraint\n",
    "#     p + d - l - c == 0,  # Energy balance constraint\n",
    "#     q[1:] == eta_s * q[:-1] + eta_c * c - (1/eta_d) * d,  # Storage dynamics constraint\n",
    "#     q[0] == q_init,  # Initial storage level\n",
    "#     q[-1] == q_final,  # Final storage level\n",
    "#     q <= Q,  # Storage capacity constraint\n",
    "#     c <= C,  # Charging capacity constraint\n",
    "#     d <= D  # Discharging capacity constraint\n",
    "# ]\n",
    "\n",
    "# # Energy usage charge\n",
    "# energy_cost = cp.sum(cp.multiply(tou_prices + spot_prices, p))\n",
    "\n",
    "# # Peak power charges\n",
    "# peak_power_cost = 0\n",
    "# for k in range(K):  # Iterate over months\n",
    "#     # Compute daily max power for each day of the month\n",
    "#     m_k = [cp.max(p[(dt.date == day) & (dt.month == k+1)]) \n",
    "#            for day in pd.unique(dt[dt.month == k+1].date)]\n",
    "#     # Compute average of N largest daily max powers\n",
    "#     z_k = cp.sum_largest(cp.hstack(m_k), N) / N\n",
    "#     # Add to peak power cost\n",
    "#     peak_power_cost += cp.matmul(tier_costs, s[k, :])\n",
    "#     # Add constraints for tier thresholds and total number of tiers\n",
    "#     cons += [z_k <= cp.matmul(tier_thresholds, s[k, :-1]) + P * s[k, -1], cp.sum(s[k, :]) == 1]\n",
    "\n",
    "# # Problem definition and solving\n",
    "# problem = cp.Problem(cp.Minimize(energy_cost + peak_power_cost), cons)  # Problem definition\n",
    "# problem.solve()  # Solve problem using Gurobi solver\n"
   ]
  }
 ],
 "metadata": {
  "kernelspec": {
   "display_name": "Python 3.9.13 ('base')",
   "language": "python",
   "name": "python3"
  },
  "language_info": {
   "codemirror_mode": {
    "name": "ipython",
    "version": 3
   },
   "file_extension": ".py",
   "mimetype": "text/x-python",
   "name": "python",
   "nbconvert_exporter": "python",
   "pygments_lexer": "ipython3",
   "version": "3.9.13"
  },
  "orig_nbformat": 4,
  "vscode": {
   "interpreter": {
    "hash": "3d597f4c481aa0f25dceb95d2a0067e73c0966dcbd003d741d821a7208527ecf"
   }
  }
 },
 "nbformat": 4,
 "nbformat_minor": 2
}
